{
  "cells": [
    {
      "cell_type": "markdown",
      "id": "2e3d5b79-352b-4800-ae9d-822846a0ece1",
      "metadata": {
        "nbgrader": {
          "grade": false,
          "grade_id": "cell-bdd4d42f95339346",
          "locked": true,
          "schema_version": 3,
          "solution": false,
          "task": false
        },
        "tags": [],
        "id": "2e3d5b79-352b-4800-ae9d-822846a0ece1"
      },
      "source": [
        "# Pràctica 1 - IF, FOR, WHILE, LLISTES"
      ]
    },
    {
      "cell_type": "markdown",
      "id": "49922319-496c-4369-aaa1-86a71d43287e",
      "metadata": {
        "nbgrader": {
          "grade": false,
          "grade_id": "cell-008f62b8682bfb2b",
          "locked": true,
          "schema_version": 3,
          "solution": false,
          "task": false
        },
        "tags": [],
        "id": "49922319-496c-4369-aaa1-86a71d43287e"
      },
      "source": [
        "Desenvolupa un codi per a cada exercici. Per a entregar la pràctica, podeu adjuntar un fitxer amb tots els codis separats per a cada exercici o adjuntar un fitxer per a cada exercici per separat. Es recomana que realitzeu els exercicis de forma individual, preguntant en cas de dubte. **En cas que es detecti una copia, la pràctica té un 0 i, a més a més, l’alumne tindrà més dificultats a l’hora de realitzar l’examen ja que no haurà practicat suficient.**\n",
        "\n",
        "> Es valorarà l’ús d’estructures IF,FOR,WHILE i llistes per a agilitzar el codi i optimitzar-lo."
      ]
    },
    {
      "cell_type": "markdown",
      "id": "dddb4552-50af-4381-8f26-af6c2d898bd3",
      "metadata": {
        "nbgrader": {
          "grade": false,
          "grade_id": "cell-74a16bd849326bf6",
          "locked": true,
          "schema_version": 3,
          "solution": false,
          "task": false
        },
        "tags": [],
        "id": "dddb4552-50af-4381-8f26-af6c2d898bd3"
      },
      "source": [
        "## Exercici 1\n",
        "\n",
        "Crea una frase i transforma-la en una llista. Mostra la llista per pantalla. Després, mostra la seva llista al revés. En acabat, mostra la seva longitud."
      ]
    },
    {
      "cell_type": "code",
      "execution_count": null,
      "id": "f080ea88-8029-43b2-86d4-3025735a1ce9",
      "metadata": {
        "nbgrader": {
          "grade": true,
          "grade_id": "cell-01b34421af65e869",
          "locked": true,
          "points": 1,
          "schema_version": 3,
          "solution": false,
          "task": false
        },
        "tags": [],
        "id": "f080ea88-8029-43b2-86d4-3025735a1ce9"
      },
      "outputs": [],
      "source": [
        "# EJERCICIO 1 crea una frase y transformala en una lista.Muestra la lista por pantalla.Luego,muestra su lista al reves.despues muestra su longitud\n",
        "\n",
        "frase = \"estudio asix en el instituto la guineueta 2022\"\n",
        "print(frase)\n",
        "x=list(frase)\n",
        "print(x)\n",
        "x.reverse()\n",
        "print(x)\n",
        "print(len(frase))"
      ]
    },
    {
      "cell_type": "markdown",
      "id": "df8b3a08-2277-42b5-bbf7-ba06e8da0183",
      "metadata": {
        "nbgrader": {
          "grade": false,
          "grade_id": "cell-8263e7e5ec48d93c",
          "locked": true,
          "schema_version": 3,
          "solution": false,
          "task": false
        },
        "tags": [],
        "id": "df8b3a08-2277-42b5-bbf7-ba06e8da0183"
      },
      "source": [
        "## Exercici 2\n",
        "\n",
        "Desenvolupa un programa que demani tres nombres a l’usuari i indiqui quin d’ells és més gran."
      ]
    },
    {
      "cell_type": "code",
      "execution_count": null,
      "id": "92bceb75-e717-45ff-9687-e6ea77b9bced",
      "metadata": {
        "id": "92bceb75-e717-45ff-9687-e6ea77b9bced"
      },
      "outputs": [],
      "source": [
        "# EJERCICIO 2 Desarrolla un programa que solicite tres numeros al usuario e indique cuál de ellos es mayor.\n",
        "a=int(input(\"ingrese el primer numero: \" ))\n",
        "b=int(input(\"ingrese el segundo numero: \" ))\n",
        "c=int(input(\"ingrese el tercero numero: \" ))\n",
        "print(\"los tres numeros son: \",[a,b,c])\n",
        "if(a<b):\n",
        "  max=b\n",
        "else:\n",
        "  max=a\n",
        "if(max<c):\n",
        "  max=c\n",
        "#else:\n",
        " # max=max\n",
        "print(\"el mayor de los tres numeros es: \",max)"
      ]
    },
    {
      "cell_type": "markdown",
      "id": "78fed00f-086c-46a5-b814-dcb358837cac",
      "metadata": {
        "id": "78fed00f-086c-46a5-b814-dcb358837cac"
      },
      "source": [
        "## Exercici 3\n",
        "\n",
        "Escriu un snippet que retorni les posicions imparells del següent array: vector = [3,6,2,9,7,4,5,7]. Ha de mostrar per pantalla 6, 9, 4, 7."
      ]
    },
    {
      "cell_type": "code",
      "execution_count": 1,
      "id": "e0787212-1f81-4317-986a-dc937d03e6ab",
      "metadata": {
        "colab": {
          "base_uri": "https://localhost:8080/"
        },
        "id": "e0787212-1f81-4317-986a-dc937d03e6ab",
        "outputId": "4a74826d-0bba-45a4-ced5-8535c1008e38"
      },
      "outputs": [
        {
          "output_type": "stream",
          "name": "stdout",
          "text": [
            "6\n",
            "9\n",
            "4\n",
            "7\n"
          ]
        }
      ],
      "source": [
        "# EJERCICIO 3 Escribe una funcion que devuelva las posiciones inpares del siguiente array:vector = [3,6,2,9,7,4,5,7].Debe mostras por pantalla 6,9,4,7.\n",
        "\n",
        "vector = [3,6,2,9,7,4,5,7]\n",
        "for x in range(0,4):\n",
        "  print(vector[2*x+1])"
      ]
    },
    {
      "cell_type": "markdown",
      "id": "30b18b46-46f9-4574-bcd9-03fd929abf04",
      "metadata": {
        "id": "30b18b46-46f9-4574-bcd9-03fd929abf04"
      },
      "source": [
        "## Exercici 4\n",
        "\n",
        "Desenvolupa un programa que calculi la mitja de l’array (20,3,15,18)"
      ]
    },
    {
      "cell_type": "code",
      "source": [
        "\n",
        "t=int(input(\"ingresa la cantidad de numeros: \"))\n",
        "suma=0\n",
        "for y in range(0,t):\n",
        "  p=int(input(\"ingresa el numero: \"))\n",
        "  suma=suma+p\n",
        "me=suma/t\n",
        "print(\"la media es: \", me)"
      ],
      "metadata": {
        "id": "eQ72S2_Wm73q"
      },
      "id": "eQ72S2_Wm73q",
      "execution_count": null,
      "outputs": []
    },
    {
      "cell_type": "markdown",
      "id": "8e4019d0-551f-402b-ae85-de2664766593",
      "metadata": {
        "id": "8e4019d0-551f-402b-ae85-de2664766593"
      },
      "source": [
        "## Exercici 5\n",
        "Genera un codi vagi recorrent la frase: “En un lugar de la Mancha” fins que trobi la M. En acabat, ha de dir quantes lletres i espais hi ha fins la M."
      ]
    },
    {
      "cell_type": "code",
      "execution_count": null,
      "id": "4610e571-f48c-4b26-95a8-e09dc655c562",
      "metadata": {
        "id": "4610e571-f48c-4b26-95a8-e09dc655c562"
      },
      "outputs": [],
      "source": [
        "# EJERCICIO 5 Genera un código vaya recorriendo la frase: “En un lugar de la Mancha” hasta que encuentre la M.\n",
        "#Luego, debe decir cuántas letras y espacios hay hasta la M.\n",
        "frase=input(\"ingresa la frase a analizar: \")\n",
        "vacio=0\n",
        "letras=0\n",
        "r=0\n",
        "for i in frase:\n",
        "  if(r==0):\n",
        "    if(i==\"M\"):\n",
        "      print(\"\")\n",
        "      r=1\n",
        "    else:\n",
        "      if(i==\" \"):\n",
        "        vacio=vacio +1\n",
        "      else:\n",
        "        letras=letras +1\n",
        "\n",
        "print(\"la cantidad de espacios vacios es: \",vacio)\n",
        "print(\"la cantidad de letras es: \",letras)\n"
      ]
    },
    {
      "cell_type": "markdown",
      "id": "d84b24b9-c73d-46f0-b5da-bb87aab394fa",
      "metadata": {
        "id": "d84b24b9-c73d-46f0-b5da-bb87aab394fa"
      },
      "source": [
        "## Exercici 6\n",
        "\n",
        "Modifica el següent codi per a que no es mostrin mai les “a”:\n",
        "\n",
        "```python\n",
        "frase = \"Soy el mas guay del paraguay\"\n",
        "for i in frase:\n",
        "    print(i)\n",
        "```"
      ]
    },
    {
      "cell_type": "code",
      "execution_count": null,
      "id": "33ed8a70-9cc4-4120-8428-d197c775a5de",
      "metadata": {
        "id": "33ed8a70-9cc4-4120-8428-d197c775a5de"
      },
      "outputs": [],
      "source": [
        "# EJERCICIO 6 Modifica el siguiente código para que no se muestren nunca las “a”:frase = \"Soy la mas guay del paraguay\" for e in frase:print(i)frase\n",
        "frase= \"soy el mas guay del paraguay\"\n",
        "#for i in frase:predefinido\n",
        "print(frase)\n",
        "r=frase.replace(\"a\",\"\")\n",
        "print(r)\n",
        "\n",
        "\n",
        "############### \"number for\"\n",
        "for i in frase:\n",
        "  if(i==\"a\"):\n",
        "    print(\"\")\n",
        "  else:\n",
        "    print(i)"
      ]
    },
    {
      "cell_type": "markdown",
      "id": "032a8f7d-fc01-46fc-9302-f2db8ab08ec0",
      "metadata": {
        "id": "032a8f7d-fc01-46fc-9302-f2db8ab08ec0"
      },
      "source": [
        "## Exercici 7\n",
        "\n",
        "Escriu un programa que a cada component de l’array = [4,4,5,2,7,3] li sumi 3 utilitzant un bucle for. L’array ha de quedar array=[7,7,8,5,10,6]."
      ]
    },
    {
      "cell_type": "code",
      "execution_count": null,
      "id": "60c02507-5508-4f4d-beb6-04c86a44f5f3",
      "metadata": {
        "id": "60c02507-5508-4f4d-beb6-04c86a44f5f3"
      },
      "outputs": [],
      "source": [
        "# EJERCICIO 7 Escribe un programa que a cada componente del array = [4,4,5,2,7,3] le sume 3 utilizando un bucle for.\n",
        "# El array debe quedar array=[7,7,8,5,10,6].\n",
        "#s=[]\n",
        "p=[4,4,5,2,7,3]\n",
        "for x in range(0,6):\n",
        "  s=p[x]+3\n",
        "  print(\"muestra el vector: \",s)"
      ]
    },
    {
      "cell_type": "markdown",
      "id": "7ebce496-6ba2-4543-b63a-c392659df722",
      "metadata": {
        "id": "7ebce496-6ba2-4543-b63a-c392659df722"
      },
      "source": [
        "## Exercici 8\n",
        "\n",
        "Crea una “tragaperras” de tres nombres entre 0 i 5. S’indica a l’usuari quins nombres han sortit. Si coincideixen, un missatge ha de dir: “has guanyat” i sortir del programa. L’usuari pot fer el nombre de tirades que vulgui fins que digui “prou”. S’ha de mostrar el nombre de jugades fins a dir “prou”. S’ha de mostrar també el nombre de diners perduts. Cada tirada costa 1€ i guanyar dona 10€."
      ]
    },
    {
      "cell_type": "code",
      "execution_count": null,
      "id": "9056e741-e6a1-41a4-8cda-4b0833f55083",
      "metadata": {
        "id": "9056e741-e6a1-41a4-8cda-4b0833f55083"
      },
      "outputs": [],
      "source": []
    },
    {
      "cell_type": "markdown",
      "id": "4404fb8c-54ca-4e1f-bdbd-80832e54218c",
      "metadata": {
        "id": "4404fb8c-54ca-4e1f-bdbd-80832e54218c"
      },
      "source": [
        "## Exercici 9\n",
        "Crea un codi que mostri per pantalla els elements imparells de la següent llista = [15,10,3,45,56,2,2,68,10,23] fins que s’arribi al 68."
      ]
    },
    {
      "cell_type": "code",
      "execution_count": null,
      "id": "21a365a1-55fd-4ad0-8d3a-04e2c6e91cab",
      "metadata": {
        "id": "21a365a1-55fd-4ad0-8d3a-04e2c6e91cab"
      },
      "outputs": [],
      "source": [
        "# EJERCICIO 9 \n",
        "#Crea un código que muestre por pantalla los elementos impares de la siguiente lista = [15,10,3,45,56,2,2,68,10,23] hasta que se llegue al 68.\n",
        "\n",
        "lista = [15,10,3,45,56,2,2,68,10,23]\n",
        "i=0\n",
        "while (i<len(lista)):\n",
        "  if(lista[i]!=68):\n",
        "    if(lista[i]%2!=0):\n",
        "      print(lista[i])\n",
        "    i=i+1\n",
        "  else:\n",
        "      print(\"\")\n",
        "      i=len(lista)\n",
        "    \n",
        "print(lista)\n"
      ]
    },
    {
      "cell_type": "markdown",
      "id": "43577719-4977-4aa9-92b7-60a2a8faf3b4",
      "metadata": {
        "id": "43577719-4977-4aa9-92b7-60a2a8faf3b4"
      },
      "source": [
        "## Exercici 10\n",
        "\n",
        "Crea el joc del penjat. Crea una paraula secreta de cinc lletres. S’ha d’anar mostrant per pantalla _ _ _ _ _ i substituint les _ a mesura que l’usuari vagi introduint lletres correctes. El programa acabarà després de 10 intents o si la paraula s’encerta."
      ]
    },
    {
      "cell_type": "code",
      "execution_count": null,
      "id": "c263e2b3-4f47-4df4-9572-f9359c8ff255",
      "metadata": {
        "id": "c263e2b3-4f47-4df4-9572-f9359c8ff255"
      },
      "outputs": [],
      "source": [
        "# EJERCICIO 10\n",
        "# Crea el juego del colgado. Crea una palabra secreta de cinco letras.\n",
        "# Se debe ir mostrando por pantalla _ _ _ _ _ y sustituyendo las _ a medida que el usuario vaya introduciendo letras correctas.\n",
        "# El programa terminará después de 10 intentos o si la palabra se acierta.\n",
        "\n",
        "co = 10\n",
        "in_pal = ''\n",
        "adivina_pal = []\n",
        "mos_pal = []\n",
        "\n",
        "letra = ''\n",
        "y=1\n",
        "\n",
        "in_pal = input('INGRESA LA PALABRA: ')\n",
        "adivina_pal = list(in_pal)\n",
        "\n",
        "for item in adivina_pal:\n",
        "    mos_pal.append('_')\n",
        "\n",
        "while y:\n",
        "    print(' '.join(mos_pal))\n",
        "\n",
        "    letra = input('INGRESAR UNA LETRA: ')\n",
        "    for t in range(1):\n",
        "        print()\n",
        "\n",
        "    error = False\n",
        "\n",
        "    if letra not in adivina_pal:\n",
        "    \n",
        "        error = True\n",
        "        co = co - 1\n",
        "        print('Error te confundiste. te quedan {co} intentos'.format(co=co))\n",
        "    else:\n",
        " \n",
        "        \n",
        "        for z, v in enumerate(adivina_pal):\n",
        "            if v == letra:\n",
        "                mos_pal[z] = v\n",
        "\n",
        "  \n",
        "    if co <= 0:\n",
        "        y = 0\n",
        "        print('Has perdido  la palabra '\n",
        "              'era \"{palabra}\"'.format(palabra=''.join(adivina_pal)))\n",
        "    elif adivina_pal == mos_pal:\n",
        "        y = 0\n",
        "        print('Felicitaciones ganastes, la palabra es: {palabra}\"'.format(palabra=''.join(adivina_pal)))\n",
        "\n"
      ]
    },
    {
      "cell_type": "markdown",
      "id": "13dba29e-1959-40f0-9991-295f76b528c7",
      "metadata": {
        "id": "13dba29e-1959-40f0-9991-295f76b528c7"
      },
      "source": [
        "## Exercici 11\n",
        "Crea un codi que obtingui 5 nombres aleatoris del 1 al 5 i els vagi guardant en una llista mitjançant un for. Només que un dels nombres sigui el 3, el for s’ha d’aturar i mostrar la llista amb els nombres que tingui."
      ]
    },
    {
      "cell_type": "code",
      "execution_count": null,
      "id": "fe5ffed3-1fa5-49bd-9c31-b36cd48324b5",
      "metadata": {
        "id": "fe5ffed3-1fa5-49bd-9c31-b36cd48324b5"
      },
      "outputs": [],
      "source": [
        "# EJERCICIO 11\n",
        "#Crea un código que obtenga 5 números aleatorios del 1 al 5 y los vaya guardando en una lista mediante un for.\n",
        "#Sólo que uno de los números sea el 3, el for debe detenerse y mostrar la lista con los números que tenga.\n",
        "\n",
        "import random\n",
        "y=0\n",
        "t=1\n",
        "v=[]\n",
        "for x in range(0,5):\n",
        "  n=random.randint(1,5)\n",
        "  if y==0:\n",
        "    if n==3:\n",
        "      y=1\n",
        "      v.append(n)\n",
        "    else:\n",
        "        v.append(n)\n",
        "print(v)"
      ]
    },
    {
      "cell_type": "markdown",
      "id": "5ff3f60a-31b7-4a7a-b84b-82209a61f221",
      "metadata": {
        "id": "5ff3f60a-31b7-4a7a-b84b-82209a61f221"
      },
      "source": [
        "## Exercici 12\n",
        "\n",
        "Crear un programa que afegeixi números a una llista fins que introduïm un número negatiu. A continuació heu de crear una nova llista igual que l'anterior però eliminant els números duplicats. Mostra aquesta segona llista per comprovar que hem eliminat els duplicats."
      ]
    },
    {
      "cell_type": "code",
      "execution_count": null,
      "id": "ef7b55dd-554a-48f5-9da8-f209fcb39ed9",
      "metadata": {
        "id": "ef7b55dd-554a-48f5-9da8-f209fcb39ed9"
      },
      "outputs": [],
      "source": [
        "# La teva resposta aquí"
      ]
    },
    {
      "cell_type": "markdown",
      "id": "4653551d-df75-44e7-99ef-924177b77bad",
      "metadata": {
        "id": "4653551d-df75-44e7-99ef-924177b77bad"
      },
      "source": [
        "## Exercici 13\n",
        "S’ha decidit fer una recuperació d’un examen de programació d’ASIX que ha anat molt malament per diversos motius. Dissenya un programa que pregunti quina nota s’ha tret en el primer examen i quina nota es creu que es traurà en aquest examen de recuperació. Després es pregunta a l’usuari quin criteri creu que farà servir el professor per tenir la nota final del parcial basant-se en els següents criteris i es mostrarà la nota final.\n",
        "\n",
        "* El professor farà una bona mitja. La nota final serà el 20% de la nota del primer examen i el 80% de la nota d’aquest examen.\n",
        "* El professor farà una mitja normal. La nota final serà el 35% de la nota del primer examen i el 65% de la nota d’aquest examen.\n",
        "* El professor farà una mala mitja. La nota final serà el 50% de la nota del primer examen i el 50% de la nota d’aquest examen.\n"
      ]
    },
    {
      "cell_type": "code",
      "execution_count": null,
      "id": "f35e4add-8972-43f6-947e-22b55d6b81f3",
      "metadata": {
        "id": "f35e4add-8972-43f6-947e-22b55d6b81f3"
      },
      "outputs": [],
      "source": [
        "# EJERCICIO 13\n",
        "# Se ha decidido realizar una recuperación de un examen de programación de ASIX que ha ido muy mal por varios motivos. \n",
        "# Diseña un programa que pregunte qué nota se ha sacado en el primer examen y qué nota se cree que se va a sacar en este examen de recuperación.\n",
        "#Después se pregunta al usuario qué criterio cree que utilizará el profesor para tener la nota final del parcial en base a los\n",
        "#siguientes criterios y se mostrará la nota final.\n",
        "#•El profesor hará una buena media. La nota final será el 20% de la nota del primer examen y el 80% de la nota de ese examen.\n",
        "#•El profesor hará una media normal. La nota final será el 35% de la nota del primer examen y el 65% de la nota de ese examen.\n",
        "#•El profesor hará una mala media. La nota final será el 50% de la nota del primer examen y el 50% de la nota de ese examen.\n",
        "\n",
        "n1=int(input(\"ingresa la nota del primer examen: \"))\n",
        "nr=int(input(\"cuanto cree que sacara en el examen de recuperación: \"))\n",
        "print(\"¿Que criterio crees que utilizara el profesor? \")\n",
        "print(\"1. Buena Media\")\n",
        "print(\"2. Media Normal\")\n",
        "print(\"3. Mala media\")\n",
        "#while not(opcion)\n",
        "opcion=int(input(\"ingrese criterio: \"))\n",
        "if opcion==1:\n",
        "  bm=0.20*n1+0.80*nr\n",
        "  print(\"Buena Media es:\",bm)\n",
        "else:\n",
        "  if opcion==2:\n",
        "    mn=0.35*n1+0.65*nr\n",
        "    print(\"Media Normal es:\",mn)\n",
        "  else:\n",
        "    if opcion==3:\n",
        "      mm=0.50*n1+0.50*nr\n",
        "      print(\"Mala Media es:\",mm)\n",
        "    else:\n",
        "      print(\"El criterio ingresado no existe\")\n"
      ]
    },
    {
      "cell_type": "markdown",
      "id": "11041821-4102-4e33-82f1-eefa48107cc0",
      "metadata": {
        "id": "11041821-4102-4e33-82f1-eefa48107cc0"
      },
      "source": [
        "## Exercici 14\n",
        "\n",
        "Modifica el programa anterior per a que la nota final s’obtingui de forma aleatòria tenin en compte la següent comanda rand = random.uniform(0,1). Aquesta comanda obté un nombre aleatori amb decimals entre 0 i 1. La nota del primer examen es multiplicarà per aquest factor i la d’aquest examen per la resta. S’ha de mostrar la nota final."
      ]
    },
    {
      "cell_type": "code",
      "execution_count": null,
      "id": "e5294d68-8c4e-49b9-a58f-a4cce7452626",
      "metadata": {
        "id": "e5294d68-8c4e-49b9-a58f-a4cce7452626"
      },
      "outputs": [],
      "source": [
        "# EJERCICIO 14\n",
        "# Modifica el programa anterior para que la nota final se obtenga de forma aleatoria teniendo en cuenta el siguiente pedido rand = random.uniform(0,1). \n",
        "# Este pedido obtiene un número aleatorio con decimales entre 0 y 1. \n",
        "# La nota del primer examen se multiplicará por este factor y la de este examen por el resto. Se debe mostrar la nota final.\n",
        "n1=int(input(\"ingresa la nota del primer examen: \"))\n",
        "nr=int(input(\"cuanto cree que sacara en el examen de recuperación: \"))\n",
        "rand=random.uniform(0,1)\n",
        "Nf=rand*n1+(1-rand)*nr\n",
        "print(\"la nota final es: \",Nf)\n"
      ]
    },
    {
      "cell_type": "markdown",
      "id": "526a93dd-5260-4d6a-9f7c-40658f2b6132",
      "metadata": {
        "id": "526a93dd-5260-4d6a-9f7c-40658f2b6132"
      },
      "source": [
        "## Exercici 15\n",
        "\n",
        "Donada la següent llista = [39,62,24,71,40,53,12,99,20,111], desenvolupa un programa que generi una llista amb els nombres divisibles entre 3 i una altra llista amb els que no ho son. Un cop estan distribuits, la llista original s’ha de substituir per un 0 en tots els seus elements. Un cop acabat, es mostren totes les llistes."
      ]
    },
    {
      "cell_type": "code",
      "execution_count": null,
      "id": "574fd70e-8236-417b-a79f-27ea1cca2d3a",
      "metadata": {
        "id": "574fd70e-8236-417b-a79f-27ea1cca2d3a"
      },
      "outputs": [],
      "source": [
        "# EJERCICIO 15\n",
        "# Dada la siguiente lista = [39,62,24,71,40,53,12,99,20,111], desarrolla un programa que genere una lista con los números\n",
        "#divisibles entre 3 y otra lista con los que no lo son. \n",
        "# Una vez distribuidos, la lista original debe sustituirse por un 0 en todos sus elementos. \n",
        "# Una vez terminado, se muestran todas las listas.\n",
        "lista1=[]\n",
        "lista2=[]\n",
        "lista3=[]\n",
        "lista = [39,62,24,71,40,53,12,99,20,111]\n",
        "for x in range(0,len(lista)):\n",
        "  lista1.append(0)\n",
        "  if lista[x]%3==0:\n",
        "    lista2.append(lista[x])\n",
        "  else:\n",
        "    lista3.append(lista[x])\n",
        "print(\"la lista original es: \",lista)\n",
        "print(\"la lista original sustituida por ceros: \",lista1)\n",
        "print(\"lista divisibles por 3: \",lista2)\n",
        "print(\"lista no divisibles por 3: \",lista3)\n"
      ]
    },
    {
      "cell_type": "code",
      "execution_count": null,
      "id": "0e660d40-4896-465f-abf7-41262f9747b6",
      "metadata": {
        "id": "0e660d40-4896-465f-abf7-41262f9747b6"
      },
      "outputs": [],
      "source": []
    }
  ],
  "metadata": {
    "kernelspec": {
      "display_name": "Python 3",
      "language": "python",
      "name": "python3"
    },
    "language_info": {
      "codemirror_mode": {
        "name": "ipython",
        "version": 3
      },
      "file_extension": ".py",
      "mimetype": "text/x-python",
      "name": "python",
      "nbconvert_exporter": "python",
      "pygments_lexer": "ipython3",
      "version": "3.10.6"
    },
    "colab": {
      "provenance": []
    }
  },
  "nbformat": 4,
  "nbformat_minor": 5
}